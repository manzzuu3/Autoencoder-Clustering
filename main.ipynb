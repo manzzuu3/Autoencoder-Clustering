{
 "cells": [
  {
   "cell_type": "code",
   "execution_count": 1,
   "id": "82a76d4e",
   "metadata": {},
   "outputs": [],
   "source": [
    "import pandas as pd\n",
    "import os\n",
    "import pickle\n",
    "import cv2\n",
    "from matplotlib import pyplot as plt\n",
    "%matplotlib inline\n",
    "import numpy as np\n",
    "from keras.datasets import cifar10\n",
    "import random\n",
    "from sklearn.metrics import silhouette_score, pairwise_distances\n",
    "from validclust import dunn\n",
    "from keras import regularizers"
   ]
  },
  {
   "cell_type": "code",
   "execution_count": 2,
   "id": "908e4d5f",
   "metadata": {},
   "outputs": [],
   "source": [
    "def preprocess(image_array):\n",
    "    # converting colored images to gray scale\n",
    "    gray = cv2.cvtColor(image_array, cv2.COLOR_BGR2GRAY)\n",
    "    # Reshaping array to a single row with 1024 columns\n",
    "    gray_reshaped = gray.reshape(1, 1024)\n",
    "    # Scaling the features to values between zero and 1\n",
    "    scaled = gray_reshaped / (255)\n",
    "    return gray_reshaped"
   ]
  },
  {
   "cell_type": "code",
   "execution_count": 3,
   "id": "2c85dc77",
   "metadata": {},
   "outputs": [],
   "source": [
    "def preprocess_encoder(image_array):\n",
    "    # converting colored images to gray scale\n",
    "    gray = cv2.cvtColor(image_array, cv2.COLOR_BGR2GRAY)\n",
    "    gray = gray/(255)\n",
    "    return gray"
   ]
  },
  {
   "cell_type": "code",
   "execution_count": 4,
   "id": "58f2b0a3",
   "metadata": {},
   "outputs": [],
   "source": [
    "def calculate_distance(inp_point, cluster_centroids):\n",
    "    # calculating euclidean distance between the data point and cluster centroid.\n",
    "    distances = [np.linalg.norm(inp_point - ctr) for ctr in cluster_centroids]\n",
    "\n",
    "    cluster_no = distances.index(min(distances))\n",
    "\n",
    "    return cluster_no"
   ]
  },
  {
   "cell_type": "code",
   "execution_count": 5,
   "id": "ea0b603e",
   "metadata": {},
   "outputs": [],
   "source": [
    "def recentre_centroids(cluster, data):\n",
    "    # Taking the cluster number and data points as input\n",
    "    # grouping together the data points with same cluster number\n",
    "    unique_clusters = list(set(cluster))\n",
    "    clustered_data_dict = {}\n",
    "    # for all the unique clusters getting the data points belonging to that clusters\n",
    "    for unq_num in unique_clusters: \n",
    "        same_cluster = []\n",
    "        for num, point in zip(cluster, data):\n",
    "            if unq_num == num:\n",
    "                same_cluster.append(point)\n",
    "        clustered_data_dict[unq_num] = np.array(same_cluster)\n",
    "    # updating centroids as mean values of data points present in that cluster\n",
    "    new_centroids = [ np.mean(value, axis = 0) for key, value in clustered_data_dict.items() ]\n",
    "    return new_centroids, clustered_data_dict"
   ]
  },
  {
   "cell_type": "code",
   "execution_count": 6,
   "id": "c200ce0c",
   "metadata": {},
   "outputs": [],
   "source": [
    "def clustering(data, k, patience):\n",
    "    # chossing k number of centroids randomly.\n",
    "    cluster_centroids = []\n",
    "    terminate = False\n",
    "    patience_count = 0\n",
    "    cluster_old = []\n",
    "    random.seed(99)\n",
    "    for i in range(k):\n",
    "        cluster_centroids.append(random.choice(data))\n",
    "    # calculating distances and assigning clusters\n",
    "    iter_no = 1\n",
    "    # The stop condition is if the cluster formed are same \n",
    "    # for patience number of times\n",
    "    while terminate == False and patience_count < patience:\n",
    "        if iter_no != 1:\n",
    "            cluster_centroids, clustered_data_dict = recentre_centroids(cluster, data)\n",
    "        cluster = [ calculate_distance(point, cluster_centroids) for point in data ]\n",
    "        if cluster == cluster_old:\n",
    "            patience_count += 1\n",
    "#             print(\"patience reached\", patience_count)\n",
    "            if patience_count >= patience:\n",
    "                terminate = True\n",
    "        else:\n",
    "            patience_count = 0\n",
    "            terminate = False\n",
    "        cluster_old = cluster\n",
    "        iter_no += 1\n",
    "#         print(\" no of iterations : \", iter_no)\n",
    "    return cluster, iter_no, clustered_data_dict"
   ]
  },
  {
   "cell_type": "markdown",
   "id": "edc9f5ad",
   "metadata": {},
   "source": [
    "###  loading cifar10 data set"
   ]
  },
  {
   "cell_type": "code",
   "execution_count": 7,
   "id": "4d302575",
   "metadata": {},
   "outputs": [],
   "source": [
    "# load dataset\n",
    "(X_train, Y_train), (X_test, Y_test) = cifar10.load_data()"
   ]
  },
  {
   "cell_type": "code",
   "execution_count": 8,
   "id": "f1ca9bcf",
   "metadata": {},
   "outputs": [
    {
     "name": "stdout",
     "output_type": "stream",
     "text": [
      "shape of train  (50000, 32, 32, 3)\n",
      "shape of test (10000, 32, 32, 3)\n"
     ]
    }
   ],
   "source": [
    "print(\"shape of train \", X_train.shape)\n",
    "print(\"shape of test\", X_test.shape)"
   ]
  },
  {
   "cell_type": "markdown",
   "id": "9b3058db",
   "metadata": {},
   "source": [
    "### Part 1Using only test data for clustering"
   ]
  },
  {
   "cell_type": "code",
   "execution_count": 9,
   "id": "fd236a5e",
   "metadata": {},
   "outputs": [
    {
     "name": "stdout",
     "output_type": "stream",
     "text": [
      " shape of processed data :  (10000, 1024)\n"
     ]
    }
   ],
   "source": [
    "processed_X_test = np.array([ preprocess(img_array) for img_array in X_test ])\n",
    "processed_X_test = processed_X_test.reshape(10000, 1024)\n",
    "print(\" shape of processed data : \", processed_X_test.shape)"
   ]
  },
  {
   "cell_type": "code",
   "execution_count": 10,
   "id": "a4ec4d80",
   "metadata": {},
   "outputs": [
    {
     "name": "stderr",
     "output_type": "stream",
     "text": [
      " 10%|████▍                                       | 1/10 [00:04<00:37,  4.14s/it]"
     ]
    },
    {
     "name": "stdout",
     "output_type": "stream",
     "text": [
      "For n_clusters = 2 The average silhouette_score is : 0.17953866855626427\n",
      "dunns index is  0.0919845985373622\n"
     ]
    },
    {
     "name": "stderr",
     "output_type": "stream",
     "text": [
      "\r",
      " 20%|████████▊                                   | 2/10 [00:08<00:32,  4.11s/it]"
     ]
    },
    {
     "name": "stdout",
     "output_type": "stream",
     "text": [
      "For n_clusters = 3 The average silhouette_score is : 0.11590471626887923\n",
      "dunns index is  0.09005725342476706\n"
     ]
    },
    {
     "name": "stderr",
     "output_type": "stream",
     "text": [
      "\r",
      " 30%|█████████████▏                              | 3/10 [00:14<00:35,  5.08s/it]"
     ]
    },
    {
     "name": "stdout",
     "output_type": "stream",
     "text": [
      "For n_clusters = 4 The average silhouette_score is : 0.10320309347694681\n",
      "dunns index is  0.08368556326723489\n"
     ]
    },
    {
     "name": "stderr",
     "output_type": "stream",
     "text": [
      "\r",
      " 40%|█████████████████▌                          | 4/10 [00:23<00:38,  6.48s/it]"
     ]
    },
    {
     "name": "stdout",
     "output_type": "stream",
     "text": [
      "For n_clusters = 5 The average silhouette_score is : 0.08747868928225702\n",
      "dunns index is  0.08249664087520184\n"
     ]
    },
    {
     "name": "stderr",
     "output_type": "stream",
     "text": [
      "\r",
      " 50%|██████████████████████                      | 5/10 [00:37<00:46,  9.30s/it]"
     ]
    },
    {
     "name": "stdout",
     "output_type": "stream",
     "text": [
      "For n_clusters = 6 The average silhouette_score is : 0.07902653793812217\n",
      "dunns index is  0.09142460937653932\n"
     ]
    },
    {
     "name": "stderr",
     "output_type": "stream",
     "text": [
      "\r",
      " 60%|██████████████████████████▍                 | 6/10 [00:48<00:38,  9.75s/it]"
     ]
    },
    {
     "name": "stdout",
     "output_type": "stream",
     "text": [
      "For n_clusters = 7 The average silhouette_score is : 0.07561892205073495\n",
      "dunns index is  0.08310120111043925\n"
     ]
    },
    {
     "name": "stderr",
     "output_type": "stream",
     "text": [
      "\r",
      " 70%|██████████████████████████████▊             | 7/10 [01:05<00:36, 12.29s/it]"
     ]
    },
    {
     "name": "stdout",
     "output_type": "stream",
     "text": [
      "For n_clusters = 8 The average silhouette_score is : 0.06647005100891981\n",
      "dunns index is  0.09773129466140822\n"
     ]
    },
    {
     "name": "stderr",
     "output_type": "stream",
     "text": [
      "\r",
      " 80%|███████████████████████████████████▏        | 8/10 [01:39<00:38, 19.04s/it]"
     ]
    },
    {
     "name": "stdout",
     "output_type": "stream",
     "text": [
      "For n_clusters = 9 The average silhouette_score is : 0.06468473843763464\n",
      "dunns index is  0.08665430985693591\n"
     ]
    },
    {
     "name": "stderr",
     "output_type": "stream",
     "text": [
      "\r",
      " 90%|███████████████████████████████████████▌    | 9/10 [02:19<00:25, 25.64s/it]"
     ]
    },
    {
     "name": "stdout",
     "output_type": "stream",
     "text": [
      "For n_clusters = 10 The average silhouette_score is : 0.05402163199264537\n",
      "dunns index is  0.08993630211024856\n"
     ]
    },
    {
     "name": "stderr",
     "output_type": "stream",
     "text": [
      "100%|███████████████████████████████████████████| 10/10 [02:52<00:00, 17.30s/it]"
     ]
    },
    {
     "name": "stdout",
     "output_type": "stream",
     "text": [
      "For n_clusters = 11 The average silhouette_score is : 0.054782964733661274\n",
      "dunns index is  0.09143259681851422\n"
     ]
    },
    {
     "name": "stderr",
     "output_type": "stream",
     "text": [
      "\n"
     ]
    }
   ],
   "source": [
    "import tqdm\n",
    "dist = pairwise_distances(processed_X_test)\n",
    "res = []\n",
    "for n_clust in tqdm.tqdm(range(2, 12)):\n",
    "    k = n_clust\n",
    "    clusters_nos, iter_no, clustered_data_dict = clustering(processed_X_test, k, patience = 5)\n",
    "    silhouette_avg = silhouette_score(processed_X_test, clusters_nos)\n",
    "    dunn_index = dunn(dist, np.array(clusters_nos))\n",
    "    print(\"For n_clusters =\", k,\"The average silhouette_score is :\", silhouette_avg)\n",
    "    print(\"dunns index is \", dunn_index)\n",
    "    res.append([k, silhouette_avg, dunn_index] )"
   ]
  },
  {
   "cell_type": "markdown",
   "id": "c4dd0f27",
   "metadata": {},
   "source": [
    "### For 10 clusters"
   ]
  },
  {
   "cell_type": "code",
   "execution_count": 11,
   "id": "f0211fd8",
   "metadata": {},
   "outputs": [
    {
     "name": "stdout",
     "output_type": "stream",
     "text": [
      "For n_clusters = 10 The average silhouette_score is : 0.05402163199264537\n",
      "dunns index is  0.08993630211024856\n"
     ]
    }
   ],
   "source": [
    "k = 10\n",
    "clusters_nos, iter_no, clustered_data_dict = clustering(processed_X_test, k, patience = 5)\n",
    "silhouette_avg = silhouette_score(processed_X_test, clusters_nos)\n",
    "dunn_index = dunn(dist, np.array(clusters_nos))\n",
    "print(\"For n_clusters =\", k,\"The average silhouette_score is :\", silhouette_avg)\n",
    "print(\"dunns index is \", dunn_index)"
   ]
  },
  {
   "cell_type": "markdown",
   "id": "f7114cc7",
   "metadata": {},
   "source": [
    "## Part2 - Auto encoders"
   ]
  },
  {
   "cell_type": "markdown",
   "id": "0b266fb9",
   "metadata": {},
   "source": [
    "###### We are supposed to use training data from cifar"
   ]
  },
  {
   "cell_type": "code",
   "execution_count": 12,
   "id": "dcc765ee",
   "metadata": {},
   "outputs": [],
   "source": [
    "from keras.layers import Conv2D, Dense, Flatten, MaxPooling2D, Dropout, Input, UpSampling2D\n",
    "from keras import initializers, Sequential\n",
    "from tensorflow.keras.models import Model"
   ]
  },
  {
   "cell_type": "markdown",
   "id": "93a740e6",
   "metadata": {},
   "source": [
    "### Pre processing cifar train data"
   ]
  },
  {
   "cell_type": "code",
   "execution_count": 13,
   "id": "fa693ab7",
   "metadata": {},
   "outputs": [
    {
     "name": "stdout",
     "output_type": "stream",
     "text": [
      " shape of processed data :  (50000, 32, 32)\n"
     ]
    }
   ],
   "source": [
    "processed_X_train = np.array([ preprocess_encoder(img_array) for img_array in X_train ])\n",
    "print(\" shape of processed data : \", processed_X_train.shape)"
   ]
  },
  {
   "cell_type": "markdown",
   "id": "3d0b6c35",
   "metadata": {},
   "source": [
    "### Defining an encoder model\n",
    "The encoder part takes the input images and pass them through series of convolution and max pooling layers to produce the image in lower dimension with important features "
   ]
  },
  {
   "cell_type": "code",
   "execution_count": 14,
   "id": "eaa637ff",
   "metadata": {},
   "outputs": [
    {
     "name": "stdout",
     "output_type": "stream",
     "text": [
      "Metal device set to: Apple M1\n"
     ]
    },
    {
     "name": "stderr",
     "output_type": "stream",
     "text": [
      "2021-11-14 16:03:45.653517: I tensorflow/core/common_runtime/pluggable_device/pluggable_device_factory.cc:305] Could not identify NUMA node of platform GPU ID 0, defaulting to 0. Your kernel may not have been built with NUMA support.\n",
      "2021-11-14 16:03:45.653897: I tensorflow/core/common_runtime/pluggable_device/pluggable_device_factory.cc:271] Created TensorFlow device (/job:localhost/replica:0/task:0/device:GPU:0 with 0 MB memory) -> physical PluggableDevice (device: 0, name: METAL, pci bus id: <undefined>)\n"
     ]
    }
   ],
   "source": [
    "input_dimension = (processed_X_train.shape[1], processed_X_train.shape[2], 1)\n",
    "inp_layer = Input(shape=(input_dimension))\n",
    "encoder = Conv2D(filters = 3, kernel_size = (3, 3), padding = 'same',strides = (1,1), activation = 'relu',  kernel_initializer=initializers.RandomNormal(stddev=0.01),\n",
    "                 bias_initializer=initializers.Zeros, activity_regularizer=regularizers.l1(10e-9) )(inp_layer)\n",
    "encoder = MaxPooling2D(pool_size = (2,2), padding = 'same')(encoder)\n",
    "encoder = Conv2D(filters = 1, kernel_size = (3, 3), padding = 'same',strides = (1,1), activation = 'relu',  kernel_initializer=initializers.RandomNormal(stddev=0.01),\n",
    "                 bias_initializer=initializers.Zeros, activity_regularizer=regularizers.l1(10e-9))(encoder)\n",
    "middle_layer = MaxPooling2D(pool_size = (2,2), padding = 'same')(encoder)"
   ]
  },
  {
   "cell_type": "markdown",
   "id": "c476753d",
   "metadata": {},
   "source": [
    "### Defining a decoder\n",
    "Decoder accepts the ouput from encoders final layer, then the layers are stacked in reverse order as of encoder, to reconstruct the input. The final layer has a the dimension equal to the input_dimension."
   ]
  },
  {
   "cell_type": "code",
   "execution_count": 15,
   "id": "8da1ed7d",
   "metadata": {},
   "outputs": [],
   "source": [
    "decoder = Conv2D(filters = 1, kernel_size = (3, 3), padding = 'same',strides = (1,1), activation = 'relu',  kernel_initializer=initializers.RandomNormal(stddev=0.01),\n",
    "                 bias_initializer=initializers.Zeros, activity_regularizer=regularizers.l1(10e-9))(middle_layer)\n",
    "decoder = UpSampling2D((2,2))(decoder)\n",
    "decoder = Conv2D(filters = 3, kernel_size = (3, 3), padding = 'same',strides = (1,1), activation = 'relu',  kernel_initializer=initializers.RandomNormal(stddev=0.01),\n",
    "                 bias_initializer=initializers.Zeros, activity_regularizer=regularizers.l1(10e-9) )(decoder)\n",
    "decoder = UpSampling2D((2,2))(decoder)\n",
    "output_layer =  Conv2D(filters = 1, kernel_size = (3, 3), padding = 'same',strides = (1,1), activation = 'relu',  kernel_initializer=initializers.RandomNormal(stddev=0.01),\n",
    "                 bias_initializer=initializers.Zeros, activity_regularizer=regularizers.l1(10e-9) )(decoder)"
   ]
  },
  {
   "cell_type": "markdown",
   "id": "a1789fe5",
   "metadata": {},
   "source": [
    "### Defining Auto encoder\n",
    "Here the input layer and the decoder output are stacked together, to train the weights of both encoder and decoder such that the weights encode the image in smaller dimension."
   ]
  },
  {
   "cell_type": "code",
   "execution_count": 16,
   "id": "19600b82",
   "metadata": {},
   "outputs": [],
   "source": [
    "model = Model(inputs=inp_layer, outputs=output_layer)\n",
    "# compile autoencoder model\n",
    "model.compile(optimizer='adam', loss='mse')"
   ]
  },
  {
   "cell_type": "code",
   "execution_count": 17,
   "id": "013275d4",
   "metadata": {},
   "outputs": [
    {
     "name": "stdout",
     "output_type": "stream",
     "text": [
      "Model: \"model\"\n",
      "_________________________________________________________________\n",
      "Layer (type)                 Output Shape              Param #   \n",
      "=================================================================\n",
      "input_1 (InputLayer)         [(None, 32, 32, 1)]       0         \n",
      "_________________________________________________________________\n",
      "conv2d (Conv2D)              (None, 32, 32, 3)         30        \n",
      "_________________________________________________________________\n",
      "max_pooling2d (MaxPooling2D) (None, 16, 16, 3)         0         \n",
      "_________________________________________________________________\n",
      "conv2d_1 (Conv2D)            (None, 16, 16, 1)         28        \n",
      "_________________________________________________________________\n",
      "max_pooling2d_1 (MaxPooling2 (None, 8, 8, 1)           0         \n",
      "_________________________________________________________________\n",
      "conv2d_2 (Conv2D)            (None, 8, 8, 1)           10        \n",
      "_________________________________________________________________\n",
      "up_sampling2d (UpSampling2D) (None, 16, 16, 1)         0         \n",
      "_________________________________________________________________\n",
      "conv2d_3 (Conv2D)            (None, 16, 16, 3)         30        \n",
      "_________________________________________________________________\n",
      "up_sampling2d_1 (UpSampling2 (None, 32, 32, 3)         0         \n",
      "_________________________________________________________________\n",
      "conv2d_4 (Conv2D)            (None, 32, 32, 1)         28        \n",
      "=================================================================\n",
      "Total params: 126\n",
      "Trainable params: 126\n",
      "Non-trainable params: 0\n",
      "_________________________________________________________________\n"
     ]
    }
   ],
   "source": [
    "model.summary()"
   ]
  },
  {
   "cell_type": "code",
   "execution_count": 18,
   "id": "85a252cc",
   "metadata": {},
   "outputs": [
    {
     "name": "stderr",
     "output_type": "stream",
     "text": [
      "2021-11-14 16:04:43.173816: I tensorflow/compiler/mlir/mlir_graph_optimization_pass.cc:185] None of the MLIR Optimization Passes are enabled (registered 2)\n",
      "2021-11-14 16:04:43.177377: W tensorflow/core/platform/profile_utils/cpu_utils.cc:128] Failed to get CPU frequency: 0 Hz\n",
      "2021-11-14 16:04:43.353798: I tensorflow/core/grappler/optimizers/custom_graph_optimizer_registry.cc:112] Plugin optimizer for device_type GPU is enabled.\n"
     ]
    },
    {
     "name": "stdout",
     "output_type": "stream",
     "text": [
      "Epoch 1/10\n",
      "1563/1563 - 16s - loss: 0.0298\n",
      "Epoch 2/10\n",
      "1563/1563 - 16s - loss: 0.0144\n",
      "Epoch 3/10\n",
      "1563/1563 - 16s - loss: 0.0141\n",
      "Epoch 4/10\n",
      "1563/1563 - 16s - loss: 0.0138\n",
      "Epoch 5/10\n",
      "1563/1563 - 16s - loss: 0.0134\n",
      "Epoch 6/10\n",
      "1563/1563 - 16s - loss: 0.0133\n",
      "Epoch 7/10\n",
      "1563/1563 - 16s - loss: 0.0133\n",
      "Epoch 8/10\n",
      "1563/1563 - 16s - loss: 0.0133\n",
      "Epoch 9/10\n",
      "1563/1563 - 16s - loss: 0.0133\n",
      "Epoch 10/10\n",
      "1563/1563 - 16s - loss: 0.0133\n"
     ]
    }
   ],
   "source": [
    "history = model.fit(processed_X_train, processed_X_train, epochs=10, batch_size=32, verbose=2)"
   ]
  },
  {
   "cell_type": "markdown",
   "id": "4e79fb57",
   "metadata": {},
   "source": [
    "### Using encoder to predict on train images"
   ]
  },
  {
   "cell_type": "code",
   "execution_count": 20,
   "id": "1f8f84d8",
   "metadata": {},
   "outputs": [],
   "source": [
    "encoder = Model(inputs=inp_layer, outputs=middle_layer)"
   ]
  },
  {
   "cell_type": "code",
   "execution_count": 21,
   "id": "55abcd9c",
   "metadata": {
    "scrolled": true
   },
   "outputs": [
    {
     "name": "stderr",
     "output_type": "stream",
     "text": [
      "2021-11-14 16:08:38.255045: I tensorflow/core/grappler/optimizers/custom_graph_optimizer_registry.cc:112] Plugin optimizer for device_type GPU is enabled.\n"
     ]
    }
   ],
   "source": [
    "encoder_features = encoder.predict(processed_X_train)"
   ]
  },
  {
   "cell_type": "code",
   "execution_count": 30,
   "id": "a98b3c23",
   "metadata": {},
   "outputs": [
    {
     "data": {
      "image/png": "[encoded data removed]",
      "text/plain": [
       "<Figure size 432x288 with 1 Axes>"
      ]
     },
     "metadata": {
      "needs_background": "light"
     },
     "output_type": "display_data"
    },
    {
     "data": {
      "image/png": "[encoded data removed]",
      "text/plain": [
       "<Figure size 432x288 with 1 Axes>"
      ]
     },
     "metadata": {
      "needs_background": "light"
     },
     "output_type": "display_data"
    }
   ],
   "source": [
    "plt.imshow(processed_X_train[111])\n",
    "plt.show()\n",
    "plt.imshow(encoder_features[111])\n",
    "plt.show()"
   ]
  },
  {
   "cell_type": "code",
   "execution_count": 24,
   "id": "48322843",
   "metadata": {},
   "outputs": [],
   "source": [
    "flat_encoded = encoder_features.reshape(50000, -1)"
   ]
  },
  {
   "cell_type": "markdown",
   "id": "fe2f9c75",
   "metadata": {},
   "source": [
    "### Running clustering on encoded features"
   ]
  },
  {
   "cell_type": "code",
   "execution_count": 25,
   "id": "07db446a",
   "metadata": {},
   "outputs": [
    {
     "name": "stdout",
     "output_type": "stream",
     "text": [
      "For n_clusters = 10 The average silhouette_score is : 0.10401671\n"
     ]
    }
   ],
   "source": [
    "k = 10\n",
    "clusters_nos, iter_no, clustered_data_dict = clustering(flat_encoded, k, patience = 5)\n",
    "silhouette_avg = silhouette_score(flat_encoded, clusters_nos)\n",
    "print(\"For n_clusters =\", k,\"The average silhouette_score is :\", silhouette_avg)"
   ]
  },
  {
   "cell_type": "code",
   "execution_count": 26,
   "id": "25d54b0b",
   "metadata": {},
   "outputs": [
    {
     "name": "stdout",
     "output_type": "stream",
     "text": [
      "dunns index is  0.020386063\n"
     ]
    }
   ],
   "source": [
    "dist = pairwise_distances(flat_encoded)\n",
    "dunn_index = dunn(dist, np.array(clusters_nos))\n",
    "print(\"dunns index is \", dunn_index)"
   ]
  }
 ],
 "metadata": {
  "kernelspec": {
   "display_name": "tf_base",
   "language": "python",
   "name": "tf_base"
  },
  "language_info": {
   "codemirror_mode": {
    "name": "ipython",
    "version": 3
   },
   "file_extension": ".py",
   "mimetype": "text/x-python",
   "name": "python",
   "nbconvert_exporter": "python",
   "pygments_lexer": "ipython3",
   "version": "3.8.12"
  }
 },
 "nbformat": 4,
 "nbformat_minor": 5
}
